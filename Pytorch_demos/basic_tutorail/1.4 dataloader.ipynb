{
 "cells": [
  {
   "cell_type": "markdown",
   "metadata": {},
   "source": [
    "介绍了pytorch中的数据加载和批处理功能"
   ]
  },
  {
   "cell_type": "code",
   "execution_count": 7,
   "metadata": {},
   "outputs": [],
   "source": [
    "import torch\n",
    "import torch.utils.data as Data\n",
    "import warnings\n",
    "warnings.filterwarnings('ignore')"
   ]
  },
  {
   "cell_type": "markdown",
   "metadata": {},
   "source": [
    "### 1. DataSet类"
   ]
  },
  {
   "cell_type": "markdown",
   "metadata": {},
   "source": [
    "Dataset是一个抽象类, 为了能够方便的读取，需要将要使用的数据包装为Dataset类。同时Dataset也是Tensorloader类和Dataloader类等数据集操作相关类的父类.\n",
    "自定义的Dataset需要继承它并且实现两个成员方法：\n",
    "1. __getitem__() 该方法定义每次怎么获取数据\n",
    "2. __len__() 该方法返回数据集的总长度"
   ]
  },
  {
   "cell_type": "code",
   "execution_count": 8,
   "metadata": {},
   "outputs": [],
   "source": [
    "# 以鸢尾花数据为例\n",
    "import pandas as pd\n",
    "class IrisDataSet(Data.Dataset):\n",
    "    def __init__(self, csv_file):\n",
    "        \"\"\"实现初始化方法，在初始化的时候将数据读载入\"\"\"\n",
    "        self.df=pd.read_csv(csv_file)\n",
    "    def __len__(self):\n",
    "        return len(self.df)\n",
    "    def __getitem__(self, idx):\n",
    "            return self.df.iloc[idx]"
   ]
  },
  {
   "cell_type": "code",
   "execution_count": 11,
   "metadata": {},
   "outputs": [],
   "source": [
    "iris = IrisDataSet('./iris.csv')"
   ]
  },
  {
   "cell_type": "code",
   "execution_count": 13,
   "metadata": {},
   "outputs": [
    {
     "data": {
      "text/plain": [
       "150"
      ]
     },
     "execution_count": 13,
     "metadata": {},
     "output_type": "execute_result"
    }
   ],
   "source": [
    "# 实现了__len__ 方法所以可以直接使用len获取数据总数\n",
    "len(iris)"
   ]
  },
  {
   "cell_type": "code",
   "execution_count": 14,
   "metadata": {},
   "outputs": [
    {
     "data": {
      "text/plain": [
       "SepalLength            5.1\n",
       "SepalWidth             3.5\n",
       "PetalLength            1.4\n",
       "PetalWidth             0.2\n",
       "Name           Iris-setosa\n",
       "Name: 0, dtype: object"
      ]
     },
     "execution_count": 14,
     "metadata": {},
     "output_type": "execute_result"
    }
   ],
   "source": [
    "# 用索引可以直接访问对应的数据\n",
    "iris[0]"
   ]
  },
  {
   "cell_type": "markdown",
   "metadata": {},
   "source": [
    "### 2. TensorDataSet类"
   ]
  },
  {
   "cell_type": "markdown",
   "metadata": {},
   "source": [
    "继承自DataSet类，可以将不同的tensor进行组合封装（如features和label）"
   ]
  },
  {
   "cell_type": "code",
   "execution_count": 30,
   "metadata": {},
   "outputs": [],
   "source": [
    "iris_df = pd.read_csv('./iris.csv')\n",
    "map_dict = {\"Iris-virginica\":0, \"Iris-setosa\":1, \"Iris-versicolor\":2}   # TensorDateSet不支持String类型\n",
    "iris_X = iris_df.iloc[:, :-1].values\n",
    "iris_Y = iris_df.iloc[:, -1].apply(lambda x: map_dict[x]).values"
   ]
  },
  {
   "cell_type": "code",
   "execution_count": 31,
   "metadata": {},
   "outputs": [],
   "source": [
    "iris_X_tensor = torch.from_numpy(iris_X)\n",
    "iris_Y_tensor = torch.from_numpy(iris_Y)"
   ]
  },
  {
   "cell_type": "code",
   "execution_count": 34,
   "metadata": {},
   "outputs": [
    {
     "data": {
      "text/plain": [
       "<torch.utils.data.dataset.TensorDataset at 0x11e9a7128>"
      ]
     },
     "execution_count": 34,
     "metadata": {},
     "output_type": "execute_result"
    }
   ],
   "source": [
    "iris_dataset = Data.TensorDataset(iris_X_tensor, iris_Y_tensor)\n",
    "iris_dataset"
   ]
  },
  {
   "cell_type": "markdown",
   "metadata": {},
   "source": [
    "### 3. DataLoader类"
   ]
  },
  {
   "cell_type": "markdown",
   "metadata": {},
   "source": [
    "数据加载的迭代器，可用来进行shuffle和batch_size等的定义"
   ]
  },
  {
   "cell_type": "code",
   "execution_count": 35,
   "metadata": {},
   "outputs": [
    {
     "name": "stdout",
     "output_type": "stream",
     "text": [
      "Epoch:  0 | Step:  0 |batch_x:  [[5.5 2.4 3.7 1. ]\n",
      " [5.1 3.5 1.4 0.2]\n",
      " [4.9 3.1 1.5 0.1]\n",
      " [5.8 2.7 5.1 1.9]\n",
      " [5.1 2.5 3.  1.1]\n",
      " [4.6 3.2 1.4 0.2]\n",
      " [7.2 3.6 6.1 2.5]\n",
      " [6.5 2.8 4.6 1.5]\n",
      " [4.9 2.5 4.5 1.7]\n",
      " [6.1 3.  4.9 1.8]\n",
      " [6.7 3.1 4.7 1.5]\n",
      " [4.8 3.1 1.6 0.2]\n",
      " [7.1 3.  5.9 2.1]\n",
      " [6.7 3.3 5.7 2.5]\n",
      " [5.4 3.  4.5 1.5]\n",
      " [7.3 2.9 6.3 1.8]\n",
      " [6.  2.2 5.  1.5]\n",
      " [5.  3.3 1.4 0.2]\n",
      " [5.5 2.4 3.8 1.1]\n",
      " [4.4 3.2 1.3 0.2]] |batch_y:  [2 1 1 0 2 1 0 2 0 0 2 1 0 0 2 0 0 1 2 1]\n",
      "Epoch:  1 | Step:  0 |batch_x:  [[4.9 2.5 4.5 1.7]\n",
      " [5.4 3.  4.5 1.5]\n",
      " [6.  3.4 4.5 1.6]\n",
      " [5.6 3.  4.5 1.5]\n",
      " [6.7 3.3 5.7 2.5]\n",
      " [5.3 3.7 1.5 0.2]\n",
      " [5.9 3.  4.2 1.5]\n",
      " [7.2 3.2 6.  1.8]\n",
      " [6.8 3.  5.5 2.1]\n",
      " [6.7 2.5 5.8 1.8]\n",
      " [4.8 3.  1.4 0.3]\n",
      " [7.2 3.  5.8 1.6]\n",
      " [5.8 2.6 4.  1.2]\n",
      " [6.9 3.1 4.9 1.5]\n",
      " [6.6 3.  4.4 1.4]\n",
      " [5.2 4.1 1.5 0.1]\n",
      " [5.  3.4 1.6 0.4]\n",
      " [6.2 3.4 5.4 2.3]\n",
      " [6.5 2.8 4.6 1.5]\n",
      " [5.5 2.5 4.  1.3]] |batch_y:  [0 2 2 2 0 1 2 0 0 0 1 0 2 2 2 1 1 0 2 2]\n",
      "Epoch:  2 | Step:  0 |batch_x:  [[4.3 3.  1.1 0.1]\n",
      " [7.3 2.9 6.3 1.8]\n",
      " [4.6 3.4 1.4 0.3]\n",
      " [4.6 3.2 1.4 0.2]\n",
      " [4.8 3.1 1.6 0.2]\n",
      " [5.1 3.7 1.5 0.4]\n",
      " [4.4 3.  1.3 0.2]\n",
      " [5.1 3.5 1.4 0.3]\n",
      " [5.8 2.7 5.1 1.9]\n",
      " [6.5 3.  5.5 1.8]\n",
      " [4.9 3.1 1.5 0.1]\n",
      " [5.1 3.8 1.9 0.4]\n",
      " [5.  3.4 1.6 0.4]\n",
      " [6.6 2.9 4.6 1.3]\n",
      " [5.8 2.7 4.1 1. ]\n",
      " [5.8 2.7 3.9 1.2]\n",
      " [5.5 3.5 1.3 0.2]\n",
      " [6.2 2.2 4.5 1.5]\n",
      " [6.3 2.3 4.4 1.3]\n",
      " [4.8 3.4 1.9 0.2]] |batch_y:  [1 0 1 1 1 1 1 1 0 0 1 1 1 2 2 2 1 2 2 1]\n"
     ]
    }
   ],
   "source": [
    "\"\"\"\n",
    "shuffle:用于在每个batch中，将数据进行打乱\n",
    "batch_size:每个batch的大小，对于每个epoch中最后一个batch，若不足按照不足的数量取\n",
    "\"\"\"\n",
    "loader = Data.DataLoader(dataset=iris_dataset, shuffle=True, batch_size=20)\n",
    "\n",
    "for epoch in range(3):\n",
    "    for step, (batch_x, batch_y) in enumerate(loader):    # 每个step\n",
    "        if step % 10 == 0:\n",
    "            print(\"Epoch: \", epoch, \"| Step: \", step, \"|batch_x: \", batch_x.numpy(), \"|batch_y: \", batch_y.numpy())"
   ]
  },
  {
   "cell_type": "code",
   "execution_count": null,
   "metadata": {},
   "outputs": [],
   "source": []
  }
 ],
 "metadata": {
  "kernelspec": {
   "display_name": "Python 3",
   "language": "python",
   "name": "python3"
  },
  "language_info": {
   "codemirror_mode": {
    "name": "ipython",
    "version": 3
   },
   "file_extension": ".py",
   "mimetype": "text/x-python",
   "name": "python",
   "nbconvert_exporter": "python",
   "pygments_lexer": "ipython3",
   "version": "3.6.7"
  }
 },
 "nbformat": 4,
 "nbformat_minor": 2
}
