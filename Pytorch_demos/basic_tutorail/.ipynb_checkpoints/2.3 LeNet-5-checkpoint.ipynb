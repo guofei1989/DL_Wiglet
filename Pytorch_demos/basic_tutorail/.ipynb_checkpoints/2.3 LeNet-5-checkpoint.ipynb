{
 "cells": [
  {
   "cell_type": "markdown",
   "metadata": {},
   "source": [
    "介绍了LeNet-5网络的架构"
   ]
  },
  {
   "cell_type": "code",
   "execution_count": 1,
   "metadata": {},
   "outputs": [],
   "source": [
    "import torch\n",
    "import torch.nn.functional as F"
   ]
  },
  {
   "cell_type": "code",
   "execution_count": 2,
   "metadata": {},
   "outputs": [],
   "source": [
    "class LeNet5(torch.nn.Module):\n",
    "    def __init__(self):\n",
    "        super(LeNet5, self).__init__()\n",
    "        # 卷积层\n",
    "        self.conv1 = torch.nn.Conv2d(1, 6, 3)   # 1通道——>6通道，卷积核尺寸为3x3\n",
    "        self.conv2 = torch.nn.Conv2d(6, 16, 5)  # 6通道——>16通道，卷积核尺寸为5x5\n",
    "        # 全连接层\n",
    "        self.fc1 = torch.nn.Linear(16*5*5, 120)\n",
    "        self.fc2 = torch.nn.Linear(120, 84)\n",
    "        self.fc3 = torch.nn.Linear(84, 10)\n",
    "        \n",
    "    def forward(self, x):\n",
    "        # 输入图像尺寸为1*32*32\n",
    "        x = F.relu(self.conv1(x))    # 1*32*32 ——> 6*30*30\n",
    "        x = F.max_pool2d(x, (2, 2))  # 6*30*30 ——> 6*15*15\n",
    "        x = F.relu(self.conv2(x))    # 6*15*15 ——> 16*11*11\n",
    "        x = F.max_pool2d(x, (2, 2))  # 16*11*11 ——> 16*5*5\n",
    "        x = x.view(-1, self.num_flat_features(x))   # flatten\n",
    "        x = F.relu(self.fc1(x))\n",
    "        x = F.relu(self.fc2(x))\n",
    "        x = self.fc3(x)\n",
    "        return x\n",
    "    \n",
    "    def num_flat_features(self, x):\n",
    "        # x和forward的原始输入并不一样\n",
    "        # forward定义的时候不需要显示声明dim=0的batch维度，但在真实前向计算时，是需要考虑这个维度的\n",
    "        size = x.size()[1:]\n",
    "        num_featurs = 1\n",
    "        for s in size:\n",
    "            num_featurs *= s\n",
    "        return num_featurs"
   ]
  },
  {
   "cell_type": "code",
   "execution_count": 3,
   "metadata": {},
   "outputs": [
    {
     "name": "stdout",
     "output_type": "stream",
     "text": [
      "LeNet5(\n",
      "  (conv1): Conv2d(1, 6, kernel_size=(3, 3), stride=(1, 1))\n",
      "  (conv2): Conv2d(6, 16, kernel_size=(5, 5), stride=(1, 1))\n",
      "  (fc1): Linear(in_features=400, out_features=120, bias=True)\n",
      "  (fc2): Linear(in_features=120, out_features=84, bias=True)\n",
      "  (fc3): Linear(in_features=84, out_features=10, bias=True)\n",
      ")\n"
     ]
    }
   ],
   "source": [
    "net = LeNet5()\n",
    "print(net)"
   ]
  },
  {
   "cell_type": "code",
   "execution_count": null,
   "metadata": {},
   "outputs": [],
   "source": []
  }
 ],
 "metadata": {
  "kernelspec": {
   "display_name": "Python 3",
   "language": "python",
   "name": "python3"
  },
  "language_info": {
   "codemirror_mode": {
    "name": "ipython",
    "version": 3
   },
   "file_extension": ".py",
   "mimetype": "text/x-python",
   "name": "python",
   "nbconvert_exporter": "python",
   "pygments_lexer": "ipython3",
   "version": "3.6.7"
  }
 },
 "nbformat": 4,
 "nbformat_minor": 2
}
