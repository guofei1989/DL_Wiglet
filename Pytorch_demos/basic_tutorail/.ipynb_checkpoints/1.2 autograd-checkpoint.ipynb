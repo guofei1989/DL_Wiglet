{
 "cells": [
  {
   "cell_type": "markdown",
   "metadata": {},
   "source": [
    "介绍了pytorch中的自动求导功能"
   ]
  },
  {
   "cell_type": "markdown",
   "metadata": {},
   "source": [
    "### 1. 梯度下降法求极值"
   ]
  },
  {
   "cell_type": "code",
   "execution_count": null,
   "metadata": {},
   "outputs": [],
   "source": [
    "# 示例：求函数y=6x^2的极值\n",
    "x = 10  # 初始值\n",
    "lr=0.01   # 学习率\n",
    "time_step = 0   # 初始时间\n",
    "time_list = []   # 步长列表\n",
    "x_list = []    # 自变量列表\n",
    "loss_list = []   # 损失函数值列表\n",
    "grad_list = []    # 梯度列表\n",
    "for epoch in range(3):    \n",
    "    for i in range(50):\n",
    "        loss = 3 * x * x    # 损失函数表达式\n",
    "        grad = 6 * x    # 梯度\n",
    "        time_list.append(time_step)\n",
    "        x_list.append(x)\n",
    "        loss_list.append(loss)\n",
    "        grad_list.append(grad)\n",
    "        x -= lr * grad    # 迭代公式\n",
    "        time_step += 1"
   ]
  },
  {
   "cell_type": "code",
   "execution_count": 14,
   "metadata": {},
   "outputs": [
    {
     "data": {
      "image/png": "[encoded data removed]",
      "text/plain": [
       "<Figure size 432x288 with 4 Axes>"
      ]
     },
     "metadata": {},
     "output_type": "display_data"
    }
   ],
   "source": [
    "import matplotlib.pyplot as plt\n",
    "fig, ax = plt.subplots(2,2)\n",
    "ax[0][0].plot(time_list, x_list)   # 迭代的变量\n",
    "ax[0][1].plot(time_list, loss_list)   # 损失的变化\n",
    "ax[1][0].plot(time_list, grad_list)   # 梯度的的变化\n",
    "plt.show()"
   ]
  },
  {
   "cell_type": "markdown",
   "metadata": {},
   "source": [
    "### 2. Pytorch中的自动求导"
   ]
  },
  {
   "cell_type": "markdown",
   "metadata": {},
   "source": [
    "PyTorch的autograd模块实现了自动反向求导（DL的算法本质）的过程。\n",
    "从0.4起, Variable 正式合并入Tensor, Variable 本来实现的自动微分功能，Tensor就能支持。"
   ]
  },
  {
   "cell_type": "code",
   "execution_count": 15,
   "metadata": {},
   "outputs": [
    {
     "data": {
      "text/plain": [
       "'1.0.1.post2'"
      ]
     },
     "execution_count": 15,
     "metadata": {},
     "output_type": "execute_result"
    }
   ],
   "source": [
    "import torch\n",
    "torch.__version__"
   ]
  },
  {
   "cell_type": "markdown",
   "metadata": {},
   "source": [
    "在张量创建时，通过设置 requires_grad 标识为Ture来告诉Pytorch需要对该张量进行自动的求导，PyTorch回记录该张量的每一步操作历史并自动计算"
   ]
  },
  {
   "cell_type": "markdown",
   "metadata": {},
   "source": [
    "#### 示例1: 单变量的求导"
   ]
  },
  {
   "cell_type": "code",
   "execution_count": 17,
   "metadata": {},
   "outputs": [
    {
     "name": "stdout",
     "output_type": "stream",
     "text": [
      "<SumBackward0 object at 0x11891ac18>\n",
      "tensor([[1., 1.],\n",
      "        [1., 1.]]) tensor([[1., 1.],\n",
      "        [1., 1.]])\n"
     ]
    }
   ],
   "source": [
    "# 相当于求z=sum(w1+w2+...w8)，所以导数全部为0\n",
    "x = torch.rand(2,2,requires_grad=True)\n",
    "y = torch.rand(2,2,requires_grad=True)\n",
    "z = torch.sum(x+y)\n",
    "z.backward()\n",
    "print(z.grad_fn)\n",
    "print(x.grad, y.grad)"
   ]
  },
  {
   "cell_type": "code",
   "execution_count": 18,
   "metadata": {},
   "outputs": [
    {
     "name": "stdout",
     "output_type": "stream",
     "text": [
      "<SumBackward0 object at 0x11891ae10>\n",
      "tensor([[1., 1.],\n",
      "        [1., 1.]]) None\n"
     ]
    }
   ],
   "source": [
    "x = torch.rand(2,2,requires_grad=True)\n",
    "y = torch.rand(2,2)   # 默认requires_grad=False\n",
    "z = torch.sum(x+y)\n",
    "z.backward()\n",
    "print(z.grad_fn)\n",
    "print(x.grad, y.grad)"
   ]
  },
  {
   "cell_type": "markdown",
   "metadata": {},
   "source": [
    "#### 示例2：多变量的求导"
   ]
  },
  {
   "cell_type": "code",
   "execution_count": 45,
   "metadata": {},
   "outputs": [
    {
     "name": "stdout",
     "output_type": "stream",
     "text": [
      "tensor([[ 9., 18.],\n",
      "        [ 9., 18.]])\n"
     ]
    }
   ],
   "source": [
    "x = torch.tensor([[1.0,2.0],[3.0,4.0]],requires_grad=True)\n",
    "y = torch.tensor([[2.0,3.0,4.0], [5.0,6.0,7.0]])\n",
    "z = torch.mm(x,y)\n",
    "z.backward(torch.ones_like(y))   # 必须传入一个和系数张量（非求导参数张量）相同shape的tensor，\n",
    "print(x.grad)   # 返回值为和x相同shape的张量，其中各元素为z对x各元素的梯度与y的线性和"
   ]
  },
  {
   "cell_type": "markdown",
   "metadata": {},
   "source": [
    "#### 示例3：梯度的自动累加"
   ]
  },
  {
   "cell_type": "code",
   "execution_count": 47,
   "metadata": {},
   "outputs": [
    {
     "name": "stdout",
     "output_type": "stream",
     "text": [
      "tensor([[1., 1.],\n",
      "        [1., 1.]])\n",
      "tensor([[2., 2.],\n",
      "        [2., 2.]])\n"
     ]
    }
   ],
   "source": [
    "x = torch.rand(2,2,requires_grad=True)\n",
    "y = torch.rand(2,2,requires_grad=True)\n",
    "z = torch.sum(x+y)\n",
    "z.backward()\n",
    "print(x.grad)\n",
    "z.backward()    # 若不对梯度进行清零，则在叶子节点上的梯度值会自动累加\n",
    "print(x.grad)"
   ]
  },
  {
   "cell_type": "code",
   "execution_count": 48,
   "metadata": {},
   "outputs": [
    {
     "name": "stdout",
     "output_type": "stream",
     "text": [
      "tensor([[1., 1.],\n",
      "        [1., 1.]])\n",
      "tensor([[1., 1.],\n",
      "        [1., 1.]])\n"
     ]
    }
   ],
   "source": [
    "x = torch.rand(2,2,requires_grad=True)\n",
    "y = torch.rand(2,2,requires_grad=True)\n",
    "z = torch.sum(x+y)\n",
    "z.backward()\n",
    "print(x.grad)\n",
    "x.grad.zero_()    # 若对梯度进行清零，则会对叶子节点上的梯度值进行重新计算\n",
    "z.backward()    \n",
    "print(x.grad)"
   ]
  },
  {
   "cell_type": "markdown",
   "metadata": {},
   "source": [
    "#### 示例4：求雅可比矩阵"
   ]
  },
  {
   "cell_type": "markdown",
   "metadata": {},
   "source": [
    "backward默认只对标量进行反向传递，如果需要求向量的导数，必须传入与系数阵同shape的标量作为参数"
   ]
  },
  {
   "cell_type": "code",
   "execution_count": 59,
   "metadata": {},
   "outputs": [
    {
     "name": "stdout",
     "output_type": "stream",
     "text": [
      "tensor([[ 8.,  2.],\n",
      "        [ 4., 96.]])\n"
     ]
    }
   ],
   "source": [
    "import copy\n",
    "x = torch.tensor([[2.0, 4.0]], requires_grad=True)   \n",
    "y = torch.zeros(1, 2)\n",
    "y[0,0] = x[0, 0] ** 2 + x[0, 1]\n",
    "y[0,1] = x[0, 1] ** 3 + 2 * x[0, 0]\n",
    "z = 2 * y\n",
    "z.backward(torch.FloatTensor([[1,0]]),retain_graph=True)\n",
    "jaccob1 = copy.deepcopy(x.grad)\n",
    "x.grad.zero_()\n",
    "z.backward(torch.FloatTensor([[0,1]]))\n",
    "jaccob2 = x.grad\n",
    "print(torch.cat((jaccob1, jaccob2), dim=0))"
   ]
  },
  {
   "cell_type": "markdown",
   "metadata": {},
   "source": [
    "#### 示例5：多次反向传播需要申明retain_graph"
   ]
  },
  {
   "cell_type": "markdown",
   "metadata": {},
   "source": [
    "1. 如果retain_graph=true,就会每次运行时重新生成图。也就是说，每次 backward() 时，默认会把整个计算图free掉。一般情况下是每次迭代，只需一次 forward() 和一次 backward() , 前向运算forward() 和反向传播backward()是成对存在的，一般一次backward()也是够用的。但是不排除，由于自定义loss等的复杂性，需要一次forward()，多个不同loss的backward()来累积同一个网络的grad来更新参数。于是，若在当前backward()后，不执行forward() 而可以执行另一个backward()，需要在当前backward()时，指定保留计算图，即backward(retain_graph)。\n",
    "2. 实测发现对于只有两层的聚合计算（如内置的mean、sum函数）无须显示声明retain_graph=True。而在其它情况下（比如输出非聚合计算，layer大于2），必须显示声明。具体原因未知。\n",
    "3. retain_graph的意义在于backward后重新保留图，否则无法forward，更无法第二次backward\n",
    "4. 设置retarin_graph=True,等效于再重新显式写一遍forward过程，之后再backward"
   ]
  },
  {
   "cell_type": "code",
   "execution_count": 76,
   "metadata": {},
   "outputs": [
    {
     "name": "stdout",
     "output_type": "stream",
     "text": [
      "tensor([[ 8.,  2.],\n",
      "        [ 4., 96.]])\n"
     ]
    }
   ],
   "source": [
    "import copy\n",
    "x = torch.tensor([[2.0, 4.0]], requires_grad=True)   \n",
    "y = torch.zeros(1, 2)\n",
    "y[0,0] = x[0, 0] ** 2 + x[0, 1]\n",
    "y[0,1] = x[0, 1] ** 3 + 2 * x[0, 0]\n",
    "z = 2 * y\n",
    "z.backward(torch.FloatTensor([[1,0]]),retain_graph=True)\n",
    "jaccob1 = copy.deepcopy(x.grad)\n",
    "x.grad.zero_()\n",
    "z.backward(torch.FloatTensor([[0,1]]))\n",
    "jaccob2 = x.grad\n",
    "print(torch.cat((jaccob1, jaccob2), dim=0))"
   ]
  },
  {
   "cell_type": "markdown",
   "metadata": {},
   "source": [
    "#### 示例6：高阶导数"
   ]
  },
  {
   "cell_type": "code",
   "execution_count": 91,
   "metadata": {},
   "outputs": [
    {
     "name": "stdout",
     "output_type": "stream",
     "text": [
      "一阶导数：(tensor([8.], grad_fn=<MulBackward0>),)\n",
      "二阶导数：(tensor([2.]),)\n"
     ]
    }
   ],
   "source": [
    "# 无法通过backward的自动求导实现\n",
    "x = torch.tensor([4.0], requires_grad=True)\n",
    "y = x**2\n",
    "grad_x = torch.autograd.grad(y, x, create_graph=True)   # 保留中间图，以供下一步的求导\n",
    "print(\"一阶导数：{}\".format(grad_x)) \n",
    "grad2_x = torch.autograd.grad(grad_x[0],x)\n",
    "print(\"二阶导数：{}\".format(grad2_x))"
   ]
  },
  {
   "cell_type": "markdown",
   "metadata": {},
   "source": [
    "#### 示例7：禁止求导"
   ]
  },
  {
   "cell_type": "markdown",
   "metadata": {},
   "source": [
    "使用with torch.no_grad()禁止已经设置requires_grad=True的向量进行自动求导，这个方法在测试集测试准确率的时候回经常用到"
   ]
  },
  {
   "cell_type": "code",
   "execution_count": 89,
   "metadata": {},
   "outputs": [
    {
     "name": "stdout",
     "output_type": "stream",
     "text": [
      "True\n",
      "True\n",
      "False\n"
     ]
    }
   ],
   "source": [
    "x = torch.rand(1,2,requires_grad=True)\n",
    "y = torch.rand(1,2)\n",
    "z = torch.mul(x, y)\n",
    "k = torch.sum(z)\n",
    "with torch.no_grad():\n",
    "    print(x.requires_grad)\n",
    "    print(z.requires_grad)\n",
    "    print((x*z+z).requires_grad)     # 只对在上下文管理中定义的图节点梯度进行禁止，而对外部的没用"
   ]
  },
  {
   "cell_type": "code",
   "execution_count": null,
   "metadata": {},
   "outputs": [],
   "source": []
  }
 ],
 "metadata": {
  "kernelspec": {
   "display_name": "Python 3",
   "language": "python",
   "name": "python3"
  },
  "language_info": {
   "codemirror_mode": {
    "name": "ipython",
    "version": 3
   },
   "file_extension": ".py",
   "mimetype": "text/x-python",
   "name": "python",
   "nbconvert_exporter": "python",
   "pygments_lexer": "ipython3",
   "version": "3.6.7"
  }
 },
 "nbformat": 4,
 "nbformat_minor": 2
}
