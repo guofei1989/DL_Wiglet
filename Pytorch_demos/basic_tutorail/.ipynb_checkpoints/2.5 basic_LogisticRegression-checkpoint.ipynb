{
 "cells": [
  {
   "cell_type": "markdown",
   "metadata": {},
   "source": [
    "示例为一个简单的利用pytorch进行logsitic回归解决二分类问题"
   ]
  },
  {
   "cell_type": "code",
   "execution_count": 1,
   "metadata": {},
   "outputs": [],
   "source": [
    "import torch\n",
    "import torch.nn.functional as F\n",
    "import numpy as np\n",
    "import matplotlib.pyplot as plt\n",
    "import warnings\n",
    "warnings.filterwarnings('ignore')"
   ]
  },
  {
   "cell_type": "code",
   "execution_count": 3,
   "metadata": {},
   "outputs": [],
   "source": [
    "# 载入数据，这里使用的UCI German Credit是UCI的德国信用数据集\n",
    "data = np.loadtxt('german.data-numeric')"
   ]
  },
  {
   "cell_type": "code",
   "execution_count": 7,
   "metadata": {},
   "outputs": [],
   "source": [
    "# 共1000行数据，25个特征（其中最后一列为label，值为1、2）\n",
    "# 进行数据的归一化\n",
    "r, c = data.shape\n",
    "for i in range(c-1):\n",
    "    meanVal = np.mean(data[:, i])\n",
    "    stdVal = np.std(data[:, i])\n",
    "    data[:,i] = (data[:,i]-meanVal)/stdVal"
   ]
  },
  {
   "cell_type": "code",
   "execution_count": 8,
   "metadata": {},
   "outputs": [],
   "source": [
    "# 打乱数据\n",
    "np.random.shuffle(data)\n",
    "\n",
    "# 选择训练集和测试集\n",
    "train_data = data[:900, :c-1]\n",
    "train_lab = data[:900, c-1]-1\n",
    "test_data = data[900:, :c-1]\n",
    "test_lab = data[900:, c-1]-1"
   ]
  },
  {
   "cell_type": "code",
   "execution_count": 12,
   "metadata": {},
   "outputs": [],
   "source": [
    "# 定义网络架构\n",
    "class LRNET(torch.nn.Module):\n",
    "    def __init__(self):\n",
    "        super(LRNET, self).__init__()\n",
    "        self.fc1 = torch.nn.Linear(24, 2)\n",
    "    def forward(self, x):\n",
    "        x = self.fc1(x)\n",
    "        out = F.sigmoid(x)\n",
    "        return out     "
   ]
  },
  {
   "cell_type": "code",
   "execution_count": 15,
   "metadata": {},
   "outputs": [],
   "source": [
    "# 定义损失函数和优化器\n",
    "lrnet = LRNET()\n",
    "criterion = torch.nn.CrossEntropyLoss()\n",
    "optimizer = torch.optim.Adam(lrnet.parameters(), lr=0.01)\n",
    "EPOCH = 1000"
   ]
  },
  {
   "cell_type": "code",
   "execution_count": 17,
   "metadata": {},
   "outputs": [
    {
     "name": "stdout",
     "output_type": "stream",
     "text": [
      "Epoch:0, Loss:0.6862, Accuracy:0.60\n",
      "Epoch:100, Loss:0.5493, Accuracy:0.79\n",
      "Epoch:200, Loss:0.5324, Accuracy:0.79\n",
      "Epoch:300, Loss:0.5248, Accuracy:0.78\n",
      "Epoch:400, Loss:0.5195, Accuracy:0.78\n",
      "Epoch:500, Loss:0.5160, Accuracy:0.78\n",
      "Epoch:600, Loss:0.5135, Accuracy:0.77\n",
      "Epoch:700, Loss:0.5115, Accuracy:0.77\n",
      "Epoch:800, Loss:0.5098, Accuracy:0.77\n",
      "Epoch:900, Loss:0.5084, Accuracy:0.77\n"
     ]
    }
   ],
   "source": [
    "# 将数据转换为tensor\n",
    "x = torch.from_numpy(train_data).float()\n",
    "y = torch.from_numpy(train_lab).long()\n",
    "x_test = torch.from_numpy(test_data).float()\n",
    "y_test = torch.from_numpy(test_lab).long()\n",
    "\n",
    "# 开始训练\n",
    "for epoch in range(EPOCH):\n",
    "    lrnet.train()   # 指定训练模式\n",
    "    y_hat = lrnet(x)\n",
    "    loss = criterion(y_hat, y)     # 损失\n",
    "    optimizer.zero_grad()    # 梯度清零\n",
    "    loss.backward()     # 向后传导\n",
    "    optimizer.step()\n",
    "    if epoch % 100 == 0:\n",
    "        lrnet.eval()   # 指定计算模式\n",
    "        y_pred = lrnet(x_test)\n",
    "        accu = torch.mean((torch.max(y_pred, 1)[1] == y_test).float())\n",
    "        print(\"Epoch:{}, Loss:{:.4f}, Accuracy:{:.2f}\".format(epoch, loss, accu))"
   ]
  },
  {
   "cell_type": "code",
   "execution_count": null,
   "metadata": {},
   "outputs": [],
   "source": []
  }
 ],
 "metadata": {
  "kernelspec": {
   "display_name": "Python 3",
   "language": "python",
   "name": "python3"
  },
  "language_info": {
   "codemirror_mode": {
    "name": "ipython",
    "version": 3
   },
   "file_extension": ".py",
   "mimetype": "text/x-python",
   "name": "python",
   "nbconvert_exporter": "python",
   "pygments_lexer": "ipython3",
   "version": "3.6.7"
  }
 },
 "nbformat": 4,
 "nbformat_minor": 2
}
